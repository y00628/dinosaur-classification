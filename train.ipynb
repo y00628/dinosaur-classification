{
 "cells": [
  {
   "cell_type": "code",
   "execution_count": 20,
   "metadata": {},
   "outputs": [
    {
     "name": "stdout",
     "output_type": "stream",
     "text": [
      "The autoreload extension is already loaded. To reload it, use:\n",
      "  %reload_ext autoreload\n"
     ]
    }
   ],
   "source": [
    "%load_ext autoreload\n",
    "%autoreload 2"
   ]
  },
  {
   "cell_type": "code",
   "execution_count": 21,
   "metadata": {},
   "outputs": [],
   "source": [
    "from torchvision.datasets import ImageFolder\n",
    "from torch.utils.data import DataLoader\n",
    "import torch\n",
    "import torchvision.transforms as transforms\n",
    "import torchvision.models as models\n",
    "from baseline import *\n",
    "import numpy as np\n",
    "import torch.optim as optim"
   ]
  },
  {
   "cell_type": "code",
   "execution_count": 22,
   "metadata": {},
   "outputs": [],
   "source": [
    "# model\n",
    "model = CNNBaseline()\n",
    "\n",
    "# other external model settings\n",
    "num_epochs = 10\n",
    "batch_size = 8\n",
    "train_acc, train_loss, val_acc, val_loss = [], [], [], []"
   ]
  },
  {
   "cell_type": "code",
   "execution_count": 23,
   "metadata": {},
   "outputs": [],
   "source": [
    "\n",
    "# data preprocessing\n",
    "transform = transforms.Compose([\n",
    "    transforms.Resize((224, 224)),\n",
    "    transforms.ToTensor(),\n",
    "    transforms.Normalize(mean=[0.485, 0.456, 0.406], std=[0.229, 0.224, 0.225]),\n",
    "])\n",
    "\n",
    "dataset = ImageFolder('./data', transform=transform)\n",
    "\n",
    "train_size = int(0.7 * len(dataset))\n",
    "val_size = int(0.2 * len(dataset))\n",
    "test_size = len(dataset) - train_size - val_size\n",
    "\n",
    "train_dataset, val_dataset, test_dataset = torch.utils.data.random_split(dataset, [train_size, val_size, test_size])\n",
    "\n",
    "train_loader = DataLoader(train_dataset, batch_size=batch_size, shuffle=True)\n",
    "val_loader = DataLoader(val_dataset, batch_size=batch_size)\n",
    "test_loader = DataLoader(test_dataset, batch_size=batch_size)"
   ]
  },
  {
   "cell_type": "code",
   "execution_count": 24,
   "metadata": {},
   "outputs": [],
   "source": [
    "# setting metrics\n",
    "criterion = torch.nn.CrossEntropyLoss()\n",
    "optimizer = optim.Adam(model.parameters(), lr=0.0001)\n",
    "\n",
    "# device\n",
    "device = torch.device('cuda' if torch.cuda.is_available() else 'cpu')\n"
   ]
  },
  {
   "cell_type": "code",
   "execution_count": 25,
   "metadata": {},
   "outputs": [
    {
     "name": "stdout",
     "output_type": "stream",
     "text": [
      "Epoch [1/10], Loss: 3.4710, Val Loss: 1.5368, Val Acc: 0.2750\n",
      "Epoch [2/10], Loss: 0.9655, Val Loss: 1.7911, Val Acc: 0.4750\n",
      "Epoch [3/10], Loss: 0.3426, Val Loss: 0.9494, Val Acc: 0.7000\n",
      "Epoch [4/10], Loss: 0.1585, Val Loss: 0.6296, Val Acc: 0.7500\n",
      "Epoch [5/10], Loss: 0.0471, Val Loss: 0.4436, Val Acc: 0.7750\n",
      "Epoch [6/10], Loss: 0.0037, Val Loss: 0.4698, Val Acc: 0.8000\n",
      "Epoch [7/10], Loss: 0.0011, Val Loss: 0.4513, Val Acc: 0.8250\n",
      "Epoch [8/10], Loss: 0.0008, Val Loss: 0.4287, Val Acc: 0.8250\n",
      "Epoch [9/10], Loss: 0.0007, Val Loss: 0.4108, Val Acc: 0.8250\n",
      "Epoch [10/10], Loss: 0.0005, Val Loss: 0.4216, Val Acc: 0.8000\n"
     ]
    }
   ],
   "source": [
    "# training the model\n",
    "for epoch in range(num_epochs):\n",
    "    num_correct = 0\n",
    "    epoch_train_loss = 0\n",
    "    model.train()\n",
    "    num_batches = 0\n",
    "    for batch_idx, (inputs, labels) in enumerate(train_loader):\n",
    "        inputs, labels = inputs.to(device), labels.to(device)\n",
    "\n",
    "        optimizer.zero_grad()\n",
    "\n",
    "        outputs = model(inputs)\n",
    "\n",
    "        _, predictions = outputs.max(1)\n",
    "        num_correct += (predictions == labels).sum().item()\n",
    "        loss = criterion(outputs, labels)\n",
    "        loss.backward()\n",
    "        optimizer.step()\n",
    "        \n",
    "        epoch_train_loss += loss.item()\n",
    "        \n",
    "        num_batches = batch_idx\n",
    "    \n",
    "    train_acc.append(num_correct / num_batches)\n",
    "    train_loss.append(epoch_train_loss / num_batches)\n",
    "    \n",
    "    \n",
    "    model.eval()\n",
    "    epoch_val_loss = 0\n",
    "    epoch_val_correct = 0\n",
    "    num_val_batches = 0\n",
    "    with torch.no_grad():\n",
    "        for inputs, labels in val_loader:\n",
    "            inputs, labels = inputs.to(device), labels.to(device)\n",
    "            \n",
    "            outputs = model(inputs)\n",
    "            _, predictions = outputs.max(1)\n",
    "            epoch_val_correct += (predictions == labels).sum().item()\n",
    "            loss = criterion(outputs, labels)\n",
    "            epoch_val_loss += loss.item()\n",
    "            \n",
    "            num_val_batches += 1\n",
    "\n",
    "    epoch_val_acc = epoch_val_correct / len(val_loader.dataset)\n",
    "    epoch_val_loss /= num_val_batches\n",
    "    \n",
    "    val_loss.append(epoch_val_loss)  \n",
    "    val_acc.append(epoch_val_acc)    \n",
    "    \n",
    "    \n",
    "        \n",
    "    print('Epoch [{}/{}], Loss: {:.4f}, Val Loss: {:.4f}, Val Acc: {:.4f}'.format(epoch+1, num_epochs, train_loss[-1], val_loss[-1], val_acc[-1]))\n"
   ]
  }
 ],
 "metadata": {
  "kernelspec": {
   "display_name": "Python 3",
   "language": "python",
   "name": "python3"
  },
  "language_info": {
   "codemirror_mode": {
    "name": "ipython",
    "version": 3
   },
   "file_extension": ".py",
   "mimetype": "text/x-python",
   "name": "python",
   "nbconvert_exporter": "python",
   "pygments_lexer": "ipython3",
   "version": "3.9.2"
  }
 },
 "nbformat": 4,
 "nbformat_minor": 2
}
