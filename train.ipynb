{
  "cells": [
    {
      "cell_type": "code",
      "execution_count": 49,
      "metadata": {
        "colab": {
          "base_uri": "https://localhost:8080/"
        },
        "id": "vzChbJE60pB_",
        "outputId": "0379f54e-7421-40fe-f05e-c9f3ae44156c"
      },
      "outputs": [
        {
          "output_type": "stream",
          "name": "stdout",
          "text": [
            "The autoreload extension is already loaded. To reload it, use:\n",
            "  %reload_ext autoreload\n"
          ]
        }
      ],
      "source": [
        "%load_ext autoreload\n",
        "%autoreload 2"
      ]
    },
    {
      "cell_type": "code",
      "execution_count": 50,
      "metadata": {
        "id": "5llKzE2O0pCB"
      },
      "outputs": [],
      "source": [
        "from torchvision.datasets import ImageFolder\n",
        "from torch.utils.data import DataLoader\n",
        "import torch\n",
        "import torchvision.transforms as transforms\n",
        "import torchvision.models as models\n",
        "from baseline import *\n",
        "import numpy as np\n",
        "import torch.optim as optim"
      ]
    },
    {
      "cell_type": "code",
      "execution_count": 51,
      "metadata": {
        "id": "77PnzoeG0pCB"
      },
      "outputs": [],
      "source": [
        "# model\n",
        "model = CNNBaseline()\n",
        "\n",
        "# other external model settings\n",
        "num_epochs = 15\n",
        "batch_size = 4\n",
        "train_acc, train_loss, val_acc, val_loss = [], [], [], []"
      ]
    },
    {
      "cell_type": "code",
      "execution_count": 52,
      "metadata": {
        "id": "dG_WBr080pCC"
      },
      "outputs": [],
      "source": [
        "\n",
        "# data preprocessing\n",
        "transform = transforms.Compose([\n",
        "    transforms.Resize((224, 224)),\n",
        "    transforms.ToTensor(),\n",
        "    transforms.Normalize(mean=[0.485, 0.456, 0.406], std=[0.229, 0.224, 0.225]),\n",
        "])\n",
        "\n",
        "dataset = ImageFolder('./data', transform=transform)\n",
        "\n",
        "train_size = int(0.7 * len(dataset))\n",
        "val_size = int(0.2 * len(dataset))\n",
        "test_size = len(dataset) - train_size - val_size\n",
        "\n",
        "train_dataset, val_dataset, test_dataset = torch.utils.data.random_split(dataset, [train_size, val_size, test_size])\n",
        "\n",
        "train_loader = DataLoader(train_dataset, batch_size=batch_size, shuffle=True)\n",
        "val_loader = DataLoader(val_dataset, batch_size=batch_size)\n",
        "test_loader = DataLoader(test_dataset, batch_size=len(test_dataset))"
      ]
    },
    {
      "cell_type": "code",
      "execution_count": 53,
      "metadata": {
        "id": "O9v2uTgd0pCC"
      },
      "outputs": [],
      "source": [
        "# setting metrics\n",
        "criterion = torch.nn.CrossEntropyLoss()\n",
        "optimizer = optim.Adam(model.parameters(), lr=0.00005)\n",
        "\n",
        "# device\n",
        "device = torch.device('cuda' if torch.cuda.is_available() else 'cpu')\n",
        "model = model.to(device)\n"
      ]
    },
    {
      "cell_type": "code",
      "execution_count": 54,
      "metadata": {
        "colab": {
          "base_uri": "https://localhost:8080/"
        },
        "id": "GWmB-tH10pCC",
        "outputId": "d7a3151d-16a0-46ba-ed32-7661064b4a74"
      },
      "outputs": [
        {
          "output_type": "stream",
          "name": "stdout",
          "text": [
            "Epoch [1/15], Loss: 3.4542, Val Loss: 1.3472, Val Acc: 0.5500\n",
            "Epoch [2/15], Loss: 0.3593, Val Loss: 0.8710, Val Acc: 0.7250\n",
            "Epoch [3/15], Loss: 0.0778, Val Loss: 0.5906, Val Acc: 0.7750\n",
            "Epoch [4/15], Loss: 0.0065, Val Loss: 0.4023, Val Acc: 0.8000\n",
            "Epoch [5/15], Loss: 0.0034, Val Loss: 0.4132, Val Acc: 0.8500\n",
            "Epoch [6/15], Loss: 0.0019, Val Loss: 0.3943, Val Acc: 0.8500\n",
            "Epoch [7/15], Loss: 0.0021, Val Loss: 0.3761, Val Acc: 0.8000\n",
            "Epoch [8/15], Loss: 0.0016, Val Loss: 0.3777, Val Acc: 0.8500\n",
            "Epoch [9/15], Loss: 0.0022, Val Loss: 0.3847, Val Acc: 0.8500\n",
            "Epoch [10/15], Loss: 0.0018, Val Loss: 0.3766, Val Acc: 0.8250\n",
            "Epoch [11/15], Loss: 0.0014, Val Loss: 0.3710, Val Acc: 0.8500\n",
            "Epoch [12/15], Loss: 0.0007, Val Loss: 0.3680, Val Acc: 0.8500\n",
            "Epoch [13/15], Loss: 0.0005, Val Loss: 0.3716, Val Acc: 0.8500\n",
            "Epoch [14/15], Loss: 0.0006, Val Loss: 0.3805, Val Acc: 0.8500\n",
            "Epoch [15/15], Loss: 0.0006, Val Loss: 0.3833, Val Acc: 0.8500\n"
          ]
        }
      ],
      "source": [
        "# training and validating the model\n",
        "\n",
        "min_val_loss = np.inf\n",
        "\n",
        "for epoch in range(num_epochs):\n",
        "    num_correct = 0\n",
        "    epoch_train_loss = 0\n",
        "    model.train()\n",
        "    num_batches = 0\n",
        "    for batch_idx, (inputs, labels) in enumerate(train_loader):\n",
        "        inputs, labels = inputs.to(device), labels.to(device)\n",
        "\n",
        "        optimizer.zero_grad()\n",
        "\n",
        "        outputs = model(inputs)\n",
        "\n",
        "        _, predictions = outputs.max(1)\n",
        "        num_correct += (predictions == labels).sum().item()\n",
        "        loss = criterion(outputs, labels)\n",
        "        loss.backward()\n",
        "        optimizer.step()\n",
        "\n",
        "        epoch_train_loss += loss.item()\n",
        "\n",
        "        num_batches = batch_idx\n",
        "\n",
        "    train_acc.append(num_correct / num_batches)\n",
        "    train_loss.append(epoch_train_loss / num_batches)\n",
        "\n",
        "\n",
        "    model.eval()\n",
        "    epoch_val_loss = 0\n",
        "    epoch_val_correct = 0\n",
        "    num_val_batches = 0\n",
        "    with torch.no_grad():\n",
        "        for inputs, labels in val_loader:\n",
        "            inputs, labels = inputs.to(device), labels.to(device)\n",
        "\n",
        "            outputs = model(inputs)\n",
        "            _, predictions = outputs.max(1)\n",
        "            epoch_val_correct += (predictions == labels).sum().item()\n",
        "            loss = criterion(outputs, labels)\n",
        "            epoch_val_loss += loss.item()\n",
        "\n",
        "            num_val_batches += 1\n",
        "\n",
        "    epoch_val_acc = epoch_val_correct / len(val_loader.dataset)\n",
        "    epoch_val_loss /= num_val_batches\n",
        "\n",
        "    val_loss.append(epoch_val_loss)\n",
        "    val_acc.append(epoch_val_acc)\n",
        "\n",
        "    if epoch_val_loss < min_val_loss:\n",
        "      min_val_loss = epoch_val_loss\n",
        "      torch.save(model.state_dict(), './models/final_model.h5')\n",
        "\n",
        "\n",
        "\n",
        "    print('Epoch [{}/{}], Loss: {:.4f}, Val Loss: {:.4f}, Val Acc: {:.4f}'.format(epoch+1, num_epochs, train_loss[-1], val_loss[-1], val_acc[-1]))\n"
      ]
    },
    {
      "cell_type": "code",
      "execution_count": 55,
      "metadata": {
        "id": "noJzW9lC0pCD"
      },
      "outputs": [],
      "source": [
        "# Load model\n",
        "device = torch.device(\"cuda\")\n",
        "model = CNNBaseline()\n",
        "model.load_state_dict(torch.load('./models/final_model.h5'))\n",
        "model = model.to(device)"
      ]
    },
    {
      "cell_type": "code",
      "execution_count": 56,
      "metadata": {
        "colab": {
          "base_uri": "https://localhost:8080/"
        },
        "id": "7Yy_-DSS0pCD",
        "outputId": "3cce5f86-a7d0-4398-9047-053411fe461a"
      },
      "outputs": [
        {
          "output_type": "stream",
          "name": "stdout",
          "text": [
            "Test Loss: 0.2705, Test Acc: 0.9000\n"
          ]
        }
      ],
      "source": [
        "# Testing model\n",
        "test_correct = 0\n",
        "test_loss = 0\n",
        "\n",
        "with torch.no_grad():\n",
        "        for inputs, labels in test_loader:\n",
        "            inputs, labels = inputs.to(device), labels.to(device)\n",
        "\n",
        "            outputs = model(inputs)\n",
        "            _, predictions = outputs.max(1)\n",
        "            test_correct += (predictions == labels).sum().item()\n",
        "            loss = criterion(outputs, labels)\n",
        "            test_loss += loss.item()\n",
        "\n",
        "            num_val_batches += 1\n",
        "        test_acc = test_correct / len(test_loader.dataset)\n",
        "\n",
        "\n",
        "        print('Test Loss: {:.4f}, Test Acc: {:.4f}'.format(test_loss, test_acc))"
      ]
    }
  ],
  "metadata": {
    "kernelspec": {
      "display_name": "Python 3",
      "name": "python3"
    },
    "language_info": {
      "codemirror_mode": {
        "name": "ipython",
        "version": 3
      },
      "file_extension": ".py",
      "mimetype": "text/x-python",
      "name": "python",
      "nbconvert_exporter": "python",
      "pygments_lexer": "ipython3",
      "version": "3.9.2"
    },
    "colab": {
      "provenance": [],
      "gpuType": "T4"
    },
    "accelerator": "GPU"
  },
  "nbformat": 4,
  "nbformat_minor": 0
}